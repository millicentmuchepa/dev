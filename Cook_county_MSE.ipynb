{
  "nbformat": 4,
  "nbformat_minor": 0,
  "metadata": {
    "colab": {
      "provenance": [],
      "gpuType": "T4",
      "include_colab_link": true
    },
    "kernelspec": {
      "name": "ir",
      "display_name": "R"
    },
    "language_info": {
      "name": "R"
    },
    "accelerator": "GPU"
  },
  "cells": [
    {
      "cell_type": "markdown",
      "metadata": {
        "id": "view-in-github",
        "colab_type": "text"
      },
      "source": [
        "<a href=\"https://colab.research.google.com/github/millicentmuchepa/dev/blob/main/Cook_county_MSE.ipynb\" target=\"_parent\"><img src=\"https://colab.research.google.com/assets/colab-badge.svg\" alt=\"Open In Colab\"/></a>"
      ]
    },
    {
      "cell_type": "code",
      "source": [
        "# Cell 0: Install Required Packages\n",
        "cat(\"Installing required packages...\\n\")\n",
        "\n",
        "# List of required packages\n",
        "required_packages <- c(\n",
        "    \"tidyverse\",\n",
        "    \"caret\",\n",
        "    \"xgboost\",\n",
        "    \"data.table\"\n",
        ")\n",
        "\n",
        "# Function to install packages if not already installed\n",
        "install_if_missing <- function(package) {\n",
        "    if (!require(package, character.only = TRUE)) {\n",
        "        cat(sprintf(\"Installing package: %s\\n\", package))\n",
        "        install.packages(package)\n",
        "        library(package, character.only = TRUE)\n",
        "    } else {\n",
        "        cat(sprintf(\"Package already installed: %s\\n\", package))\n",
        "    }\n",
        "}\n",
        "\n",
        "# Install and load each package\n",
        "for (package in required_packages) {\n",
        "    tryCatch({\n",
        "        install_if_missing(package)\n",
        "    }, error = function(e) {\n",
        "        cat(sprintf(\"Error installing package %s: %s\\n\", package, e$message))\n",
        "    })\n",
        "}\n",
        "\n",
        "cat(\"\\nAll required packages installed and loaded!\\n\")"
      ],
      "metadata": {
        "colab": {
          "base_uri": "https://localhost:8080/"
        },
        "id": "YyMiJdSeOlFU",
        "outputId": "0db64d33-e48c-49cd-ab19-7ad3c43ca18a"
      },
      "execution_count": null,
      "outputs": [
        {
          "output_type": "stream",
          "name": "stdout",
          "text": [
            "Installing required packages...\n"
          ]
        },
        {
          "output_type": "stream",
          "name": "stderr",
          "text": [
            "Loading required package: tidyverse\n",
            "\n",
            "── \u001b[1mAttaching core tidyverse packages\u001b[22m ──────────────────────── tidyverse 2.0.0 ──\n",
            "\u001b[32m✔\u001b[39m \u001b[34mdplyr    \u001b[39m 1.1.4     \u001b[32m✔\u001b[39m \u001b[34mreadr    \u001b[39m 2.1.5\n",
            "\u001b[32m✔\u001b[39m \u001b[34mforcats  \u001b[39m 1.0.0     \u001b[32m✔\u001b[39m \u001b[34mstringr  \u001b[39m 1.5.1\n",
            "\u001b[32m✔\u001b[39m \u001b[34mggplot2  \u001b[39m 3.5.1     \u001b[32m✔\u001b[39m \u001b[34mtibble   \u001b[39m 3.2.1\n",
            "\u001b[32m✔\u001b[39m \u001b[34mlubridate\u001b[39m 1.9.4     \u001b[32m✔\u001b[39m \u001b[34mtidyr    \u001b[39m 1.3.1\n",
            "\u001b[32m✔\u001b[39m \u001b[34mpurrr    \u001b[39m 1.0.2     \n",
            "── \u001b[1mConflicts\u001b[22m ────────────────────────────────────────── tidyverse_conflicts() ──\n",
            "\u001b[31m✖\u001b[39m \u001b[34mdplyr\u001b[39m::\u001b[32mfilter()\u001b[39m masks \u001b[34mstats\u001b[39m::filter()\n",
            "\u001b[31m✖\u001b[39m \u001b[34mdplyr\u001b[39m::\u001b[32mlag()\u001b[39m    masks \u001b[34mstats\u001b[39m::lag()\n",
            "\u001b[36mℹ\u001b[39m Use the conflicted package (\u001b[3m\u001b[34m<http://conflicted.r-lib.org/>\u001b[39m\u001b[23m) to force all conflicts to become errors\n"
          ]
        },
        {
          "output_type": "stream",
          "name": "stdout",
          "text": [
            "Package already installed: tidyverse\n"
          ]
        },
        {
          "output_type": "stream",
          "name": "stderr",
          "text": [
            "Loading required package: caret\n",
            "\n",
            "Warning message in library(package, lib.loc = lib.loc, character.only = TRUE, logical.return = TRUE, :\n",
            "“there is no package called ‘caret’”\n"
          ]
        },
        {
          "output_type": "stream",
          "name": "stdout",
          "text": [
            "Installing package: caret\n"
          ]
        },
        {
          "output_type": "stream",
          "name": "stderr",
          "text": [
            "Installing package into ‘/usr/local/lib/R/site-library’\n",
            "(as ‘lib’ is unspecified)\n",
            "\n",
            "also installing the dependencies ‘listenv’, ‘parallelly’, ‘future’, ‘globals’, ‘shape’, ‘future.apply’, ‘numDeriv’, ‘progressr’, ‘SQUAREM’, ‘diagram’, ‘lava’, ‘sparsevctrs’, ‘prodlim’, ‘proxy’, ‘iterators’, ‘clock’, ‘gower’, ‘hardhat’, ‘ipred’, ‘timeDate’, ‘e1071’, ‘foreach’, ‘ModelMetrics’, ‘plyr’, ‘pROC’, ‘recipes’, ‘reshape2’\n",
            "\n",
            "\n"
          ]
        }
      ]
    },
    {
      "cell_type": "code",
      "execution_count": null,
      "metadata": {
        "colab": {
          "base_uri": "https://localhost:8080/"
        },
        "id": "DYL3S43mLoaQ",
        "outputId": "cc5a0192-27c1-49a8-c6db-076317c3bf50"
      },
      "outputs": [
        {
          "output_type": "stream",
          "name": "stdout",
          "text": [
            "Loading required libraries...\n",
            "Libraries loaded successfully!\n"
          ]
        }
      ],
      "source": [
        "# Cell 1: Load Libraries and Set Seed\n",
        "cat(\"Loading required libraries...\\n\")\n",
        "if (!require(\"xgboost\")) {\n",
        "    install.packages(\"xgboost\")\n",
        "}\n",
        "library(tidyverse)\n",
        "library(caret)\n",
        "library(xgboost)\n",
        "library(data.table)\n",
        "\n",
        "set.seed(123)\n",
        "cat(\"Libraries loaded successfully!\\n\")"
      ]
    },
    {
      "cell_type": "code",
      "source": [
        "# Cell 2: Load and Prepare Data\n",
        "cat(\"Loading and preparing data...\\n\")\n",
        "historic_data <- fread(\"/historic_property_data.csv\")\n",
        "predict_data <- fread(\"/predict_property_data.csv\")\n",
        "\n",
        "# Log transform target variable\n",
        "historic_data[, log_price := log(sale_price)]\n",
        "\n",
        "# Print data dimensions\n",
        "cat(\"\\nData dimensions:\")\n",
        "cat(\"\\nHistoric data:\", dim(historic_data))\n",
        "cat(\"\\nPredict data:\", dim(predict_data))"
      ],
      "metadata": {
        "colab": {
          "base_uri": "https://localhost:8080/"
        },
        "id": "FfSQFitHOA5k",
        "outputId": "7b1c0e0f-6406-49ac-f56e-05dba811f490"
      },
      "execution_count": null,
      "outputs": [
        {
          "output_type": "stream",
          "name": "stdout",
          "text": [
            "Loading and preparing data...\n",
            "\n",
            "Data dimensions:\n",
            "Historic data: 50000 64\n",
            "Predict data: 10000 63"
          ]
        }
      ]
    },
    {
      "cell_type": "code",
      "source": [
        "# Cell 3: Select Features and Split Data\n",
        "cat(\"Selecting features and splitting data...\\n\")\n",
        "\n",
        "# Select key predictors\n",
        "key_predictors <- c(\n",
        "    # Property characteristics\n",
        "    \"char_bldg_sf\", \"char_hd_sf\", \"char_age\",\n",
        "    \"char_rooms\", \"char_beds\", \"char_fbath\",\n",
        "    # Location factors\n",
        "    \"meta_nbhd\", \"meta_town_code\", \"econ_tax_rate\",\n",
        "    # Value indicators\n",
        "    \"meta_certified_est_bldg\", \"meta_certified_est_land\"\n",
        ")\n",
        "\n",
        "# Create datasets\n",
        "train_features <- historic_data[, ..key_predictors]\n",
        "train_target <- historic_data$log_price\n",
        "predict_features <- predict_data[, ..key_predictors]\n",
        "\n",
        "# Split data\n",
        "trainIndex <- createDataPartition(train_target, p = 0.8, list = FALSE)\n",
        "X_train <- train_features[trainIndex]\n",
        "y_train <- train_target[trainIndex]\n",
        "X_val <- train_features[-trainIndex]\n",
        "y_val <- train_target[-trainIndex]"
      ],
      "metadata": {
        "colab": {
          "base_uri": "https://localhost:8080/"
        },
        "id": "nYefsudZOA2q",
        "outputId": "54359533-76b1-4a07-824b-85e8590b97a5"
      },
      "execution_count": null,
      "outputs": [
        {
          "output_type": "stream",
          "name": "stdout",
          "text": [
            "Selecting features and splitting data...\n"
          ]
        }
      ]
    },
    {
      "cell_type": "code",
      "source": [
        "# Add after data loading and before model training\n",
        "cat(\"Preprocessing data...\\n\")\n",
        "\n",
        "# Function to preprocess numeric columns\n",
        "preprocess_numeric <- function(train_data, test_data, predict_data) {\n",
        "    # Identify numeric columns\n",
        "    num_cols <- names(train_data)[sapply(train_data, is.numeric)]\n",
        "    cat(\"Standardizing numeric features:\", paste(num_cols, collapse=\", \"), \"\\n\")\n",
        "\n",
        "    # Create preprocessing objects from training data\n",
        "    preprocessing <- list()\n",
        "    for(col in num_cols) {\n",
        "        # Calculate mean and sd from training data\n",
        "        mean_val <- mean(train_data[[col]], na.rm = TRUE)\n",
        "        sd_val <- sd(train_data[[col]], na.rm = TRUE)\n",
        "\n",
        "        # Store preprocessing parameters\n",
        "        preprocessing[[col]] <- list(mean = mean_val, sd = sd_val)\n",
        "\n",
        "        # Apply standardization\n",
        "        train_data[[col]] <- (train_data[[col]] - mean_val) / sd_val\n",
        "        test_data[[col]] <- (test_data[[col]] - mean_val) / sd_val\n",
        "        predict_data[[col]] <- (predict_data[[col]] - mean_val) / sd_val\n",
        "    }\n",
        "\n",
        "    return(list(\n",
        "        train = train_data,\n",
        "        test = test_data,\n",
        "        predict = predict_data,\n",
        "        preprocessing = preprocessing\n",
        "    ))\n",
        "}\n",
        "\n",
        "# Apply preprocessing\n",
        "preprocessed <- preprocess_numeric(\n",
        "    train_data = as.data.frame(X_train),\n",
        "    test_data = as.data.frame(X_val),\n",
        "    predict_data = as.data.frame(predict_features)\n",
        ")\n",
        "\n",
        "# Update data matrices with preprocessed values\n",
        "X_train_matrix <- as.matrix(preprocessed$train)\n",
        "X_val_matrix <- as.matrix(preprocessed$test)\n",
        "predict_matrix <- as.matrix(preprocessed$predict)\n",
        "\n",
        "# Save preprocessing parameters for future use\n",
        "saveRDS(preprocessed$preprocessing, \"preprocessing_params.rds\")\n",
        "\n",
        "cat(\"Data preprocessing completed.\\n\")"
      ],
      "metadata": {
        "colab": {
          "base_uri": "https://localhost:8080/"
        },
        "id": "s44jbOe5qJlD",
        "outputId": "58017188-6cfd-4a80-b61f-2fc672efdcb2"
      },
      "execution_count": null,
      "outputs": [
        {
          "output_type": "stream",
          "name": "stdout",
          "text": [
            "Preprocessing data...\n",
            "Standardizing numeric features: char_bldg_sf, char_hd_sf, char_age, char_rooms, char_beds, char_fbath, meta_nbhd, meta_town_code, econ_tax_rate, meta_certified_est_bldg, meta_certified_est_land \n",
            "Data preprocessing completed.\n"
          ]
        }
      ]
    },
    {
      "cell_type": "code",
      "source": [
        "# Cell 4: Hyperparameter Tuning\n",
        "cat(\"Starting hyperparameter tuning...\\n\")\n",
        "tune_start_time <- Sys.time()\n",
        "\n",
        "# Update data matrices with preprocessed values\n",
        "X_train_matrix <- as.matrix(preprocessed$train)\n",
        "X_val_matrix <- as.matrix(preprocessed$test)\n",
        "predict_matrix <- as.matrix(preprocessed$predict)\n",
        "\n",
        "# Prepare data for tuning\n",
        "#X_tune_matrix <- as.matrix(X_train)\n",
        "#y_tune_matrix <- y_train\n",
        "\n",
        "param_grid <- expand.grid(\n",
        "    eta = c(0.01, 0.02, 0.03, 0.04, 0.05),     # More granular learning rates\n",
        "    max_depth = c(5, 6, 7, 8),                 # Added shallower tree\n",
        "    min_child_weight = c(2, 3, 4, 5),          # Added higher weight\n",
        "    subsample = c(0.7, 0.75, 0.8, 0.85),       # More sampling options\n",
        "    colsample_bytree = c(0.7, 0.75, 0.8, 0.85),\n",
        "    gamma = c(0.01, 0.05, 0.1, 0.15)           # Added lower gamma\n",
        ")\n",
        "\n",
        "cat(\"\\nTesting\", nrow(param_grid), \"parameter combinations:\\n\")\n",
        "\n",
        "# Initialize results storage\n",
        "cv_results <- data.frame(\n",
        "    params = character(),\n",
        "    rmse = numeric(),\n",
        "    std = numeric()\n",
        ")\n",
        "\n",
        "for(i in 1:nrow(param_grid)) {\n",
        "    params <- list(\n",
        "        objective = \"reg:squarederror\",\n",
        "        eval_metric = \"rmse\",\n",
        "        eta = param_grid$eta[i],\n",
        "        max_depth = param_grid$max_depth[i],\n",
        "        min_child_weight = param_grid$min_child_weight[i],\n",
        "        subsample = param_grid$subsample[i],\n",
        "        colsample_bytree = param_grid$colsample_bytree[i],\n",
        "        gamma = param_grid$gamma[i]\n",
        "    )\n",
        "\n",
        "    # Run cross-validation\n",
        "    cv <- xgb.cv(\n",
        "        params = params,\n",
        "        data = xgb.DMatrix(X_tune_matrix, label = y_tune_matrix),\n",
        "        nrounds = 200,\n",
        "        nfold = 3,\n",
        "        early_stopping_rounds = 20,\n",
        "        verbose = FALSE\n",
        "    )\n",
        "\n",
        "    # Store results\n",
        "    best_rmse <- min(cv$evaluation_log$test_rmse_mean)\n",
        "    best_rmse_std <- cv$evaluation_log$test_rmse_std[which.min(cv$evaluation_log$test_rmse_mean)]\n",
        "\n",
        "    cv_results <- rbind(cv_results, data.frame(\n",
        "        params = paste(capture.output(print(params)), collapse=\"; \"),\n",
        "        rmse = best_rmse,\n",
        "        std = best_rmse_std\n",
        "    ))\n",
        "\n",
        "    cat(sprintf(\"Completed %d/%d combinations\\n\", i, nrow(param_grid)))\n",
        "}\n",
        "\n",
        "# Find best parameters\n",
        "best_idx <- which.min(cv_results$rmse)\n",
        "cat(\"\\nBest parameters found:\\n\")\n",
        "cat(cv_results$params[best_idx], \"\\n\")\n",
        "cat(\"Best RMSE:\", cv_results$rmse[best_idx], \"\\n\")\n",
        "\n",
        "best_params <- list(\n",
        "    objective = \"reg:squarederror\",\n",
        "    eval_metric = \"rmse\",\n",
        "    eta = param_grid$eta[best_idx],\n",
        "    max_depth = param_grid$max_depth[best_idx],\n",
        "    min_child_weight = param_grid$min_child_weight[best_idx],\n",
        "    subsample = param_grid$subsample[best_idx],\n",
        "    colsample_bytree = param_grid$colsample_bytree[best_idx],\n",
        "    gamma = param_grid$gamma[best_idx]\n",
        ")\n",
        "\n",
        "tune_duration <- difftime(Sys.time(), tune_start_time, units=\"mins\")\n",
        "cat(sprintf(\"\\nTuning completed in %.2f minutes\\n\", tune_duration))"
      ],
      "metadata": {
        "colab": {
          "base_uri": "https://localhost:8080/"
        },
        "id": "721xgcasOAzp",
        "outputId": "30b43652-2fe6-44b0-a2e3-5e43b7227451"
      },
      "execution_count": null,
      "outputs": [
        {
          "output_type": "stream",
          "name": "stdout",
          "text": [
            "Starting hyperparameter tuning...\n",
            "\n",
            "Testing 5120 parameter combinations:\n"
          ]
        }
      ]
    },
    {
      "cell_type": "code",
      "source": [
        "# Cell 5: Train Final Model\n",
        "cat(\"Training XGBoost model with best parameters...\\n\")\n",
        "train_start_time <- Sys.time()\n",
        "\n",
        "\n",
        "# Update data matrices with preprocessed values\n",
        "X_train_matrix <- as.matrix(preprocessed$train)\n",
        "X_val_matrix <- as.matrix(preprocessed$test)\n",
        "predict_matrix <- as.matrix(preprocessed$predict)\n",
        "\n",
        "# Prepare data\n",
        "#X_train_matrix <- as.matrix(X_train)\n",
        "y_train_matrix <- y_train\n",
        "#X_val_matrix <- as.matrix(X_val)\n",
        "y_val_matrix <- y_val\n",
        "\n",
        "dtrain <- xgb.DMatrix(data = X_train_matrix, label = y_train_matrix)\n",
        "dval <- xgb.DMatrix(data = X_val_matrix, label = y_val_matrix)\n",
        "\n",
        "# Train final model\n",
        "xgb_model <- xgb.train(\n",
        "    params = best_params,\n",
        "    data = dtrain,\n",
        "    nrounds = 1000,\n",
        "    watchlist = list(train = dtrain, val = dval),\n",
        "    early_stopping_rounds = 50,\n",
        "    verbose = TRUE,\n",
        "    print_every_n = 100\n",
        ")\n",
        "\n",
        "# Calculate performance metrics\n",
        "val_pred_log <- predict(xgb_model, X_val_matrix)\n",
        "val_pred <- exp(val_pred_log)\n",
        "val_actual <- exp(y_val_matrix)\n",
        "\n",
        "val_mse <- mean((val_actual - val_pred)^2)\n",
        "val_rmse <- sqrt(val_mse)\n",
        "\n",
        "cat(\"\\nValidation Metrics:\")\n",
        "cat(\"\\nMSE:\", format(val_mse, scientific = FALSE))\n",
        "cat(\"\\nRMSE:\", format(val_rmse, scientific = FALSE))\n",
        "\n",
        "train_duration <- difftime(Sys.time(), train_start_time, units=\"mins\")\n",
        "cat(sprintf(\"\\n\\nTotal training time: %.2f minutes\\n\", train_duration))"
      ],
      "metadata": {
        "colab": {
          "base_uri": "https://localhost:8080/"
        },
        "id": "eFNnusr_OAwa",
        "outputId": "00cea28c-d240-4033-b93f-c52e95567556"
      },
      "execution_count": null,
      "outputs": [
        {
          "output_type": "stream",
          "name": "stdout",
          "text": [
            "Training XGBoost model with best parameters...\n",
            "[1]\ttrain-rmse:11.168811\tval-rmse:11.166689 \n",
            "Multiple eval metrics are present. Will use val_rmse for early stopping.\n",
            "Will train until val_rmse hasn't improved in 50 rounds.\n",
            "\n",
            "[101]\ttrain-rmse:0.389604\tval-rmse:0.431501 \n",
            "[201]\ttrain-rmse:0.348702\tval-rmse:0.419782 \n",
            "[301]\ttrain-rmse:0.322773\tval-rmse:0.418514 \n",
            "[401]\ttrain-rmse:0.303183\tval-rmse:0.417377 \n",
            "Stopping. Best iteration:\n",
            "[408]\ttrain-rmse:0.301789\tval-rmse:0.417209\n",
            "\n",
            "\n",
            "Validation Metrics:\n",
            "MSE: 14261263691\n",
            "RMSE: 119420.5\n",
            "\n",
            "Total training time: 0.37 minutes\n"
          ]
        }
      ]
    },
    {
      "cell_type": "code",
      "source": [
        "# Cell 6: Generate Predictions and Create Assessment File\n",
        "cat(\"Creating assessment file...\\n\")\n",
        "\n",
        "# Generate predictions\n",
        "predict_matrix <- as.matrix(preprocessed$predict)\n",
        "#predict_matrix <- as.matrix(predict_features)\n",
        "predictions_log <- predict(xgb_model, predict_matrix)\n",
        "predictions <- exp(predictions_log)\n",
        "\n",
        "# Apply bounds based on training data distribution\n",
        "lower_bound <- max(25000, quantile(exp(y_train), 0.001))\n",
        "upper_bound <- min(3000000, quantile(exp(y_train), 0.999))\n",
        "predictions <- pmax(predictions, lower_bound)\n",
        "predictions <- pmin(predictions, upper_bound)\n",
        "\n",
        "# Create final output\n",
        "final_output <- data.table(\n",
        "    pid = 1:10000,\n",
        "    assessed_value = round(predictions, 2)\n",
        ")\n",
        "\n",
        "# Verify requirements\n",
        "cat(\"\\nVerifying output format...\")\n",
        "if(!all(final_output$pid == 1:10000)) {\n",
        "    stop(\"PID must be consecutive integers from 1 to 10000\")\n",
        "}\n",
        "if(any(is.na(final_output$assessed_value)) || any(final_output$assessed_value < 0)) {\n",
        "    stop(\"Assessment values contain missing or negative values\")\n",
        "}\n",
        "\n",
        "# Format values\n",
        "final_output[, assessed_value := format(assessed_value, nsmall = 2, scientific = FALSE)]\n",
        "\n",
        "# Save file\n",
        "fwrite(final_output, \"assessed_value.csv\", col.names = TRUE, quote = FALSE)\n",
        "\n",
        "# Print summary statistics\n",
        "cat(\"\\n\\nFinal Prediction Statistics:\\n\")\n",
        "predictions_numeric <- as.numeric(final_output$assessed_value)\n",
        "print(summary(predictions_numeric))\n",
        "\n",
        "# Print MSE comparison\n",
        "cat(\"\\nModel Performance Metrics:\")\n",
        "cat(\"\\nValidation MSE:\", format(val_mse, scientific = FALSE))\n",
        "cat(\"\\nValidation RMSE:\", format(val_rmse, scientific = FALSE))"
      ],
      "metadata": {
        "colab": {
          "base_uri": "https://localhost:8080/"
        },
        "id": "FaCxIHnbOArD",
        "outputId": "252ede1a-2b42-42c1-8490-2845e957b520"
      },
      "execution_count": null,
      "outputs": [
        {
          "output_type": "stream",
          "name": "stdout",
          "text": [
            "Creating assessment file...\n",
            "\n",
            "Verifying output format...\n",
            "\n",
            "Final Prediction Statistics:\n",
            "   Min. 1st Qu.  Median    Mean 3rd Qu.    Max. \n",
            "  25000  142030  239844  305117  364058 3000000 \n",
            "\n",
            "Model Performance Metrics:\n",
            "Validation MSE: 14261263691\n",
            "Validation RMSE: 119420.5"
          ]
        }
      ]
    },
    {
      "cell_type": "code",
      "source": [
        "# Cell: Detailed MSE Analysis\n",
        "cat(\"Analyzing MSE in different ways...\\n\")\n",
        "\n",
        "# Calculate basic error metrics\n",
        "val_pred_log <- predict(xgb_model, X_val_matrix)\n",
        "val_pred <- exp(val_pred_log)\n",
        "val_actual <- exp(y_val_matrix)\n",
        "\n",
        "# 1. Regular MSE\n",
        "mse_regular <- mean((val_actual - val_pred)^2)\n",
        "rmse_regular <- sqrt(mse_regular)\n",
        "\n",
        "# 2. Normalized MSE (divided by mean house price squared)\n",
        "mse_normalized <- mean((val_actual - val_pred)^2) / (mean(val_actual))^2\n",
        "\n",
        "# 3. Percentage Error\n",
        "mape <- mean(abs((val_actual - val_pred)/val_actual)) * 100\n",
        "\n",
        "# 4. Individual Error Analysis\n",
        "squared_errors <- (val_actual - val_pred)^2\n",
        "rmse_per_prediction <- sqrt(squared_errors)\n",
        "\n",
        "# Print Results\n",
        "cat(\"\\n1. Regular MSE Metrics:\")\n",
        "cat(\"\\nMSE:\", format(mse_regular, scientific = FALSE))\n",
        "cat(\"\\nRMSE:\", format(rmse_regular, scientific = FALSE))\n",
        "\n",
        "cat(\"\\n\\n2. Normalized MSE:\")\n",
        "cat(\"\\nNormalized MSE:\", format(mse_normalized, scientific = FALSE))\n",
        "cat(\"\\n(Closer to 0 is better, this is unitless)\")\n",
        "\n",
        "cat(\"\\n\\n3. Percentage Error:\")\n",
        "cat(\"\\nMean Absolute Percentage Error:\", round(mape, 2), \"%\")\n",
        "\n",
        "cat(\"\\n\\n4. Error Distribution:\")\n",
        "print(summary(rmse_per_prediction))\n",
        "\n",
        "cat(\"\\nPercentage of predictions within:\")\n",
        "cat(\"\\n$50,000 of actual:\", round(mean(rmse_per_prediction < 50000) * 100, 2), \"%\")\n",
        "cat(\"\\n$100,000 of actual:\", round(mean(rmse_per_prediction < 100000) * 100, 2), \"%\")\n",
        "cat(\"\\n$200,000 of actual:\", round(mean(rmse_per_prediction < 200000) * 100, 2), \"%\")\n",
        "\n",
        "# Visualize error distribution\n",
        "hist(rmse_per_prediction,\n",
        "     breaks = 50,\n",
        "     main = \"Distribution of Prediction Errors\",\n",
        "     xlab = \"Absolute Error ($)\",\n",
        "     ylab = \"Frequency\")"
      ],
      "metadata": {
        "colab": {
          "base_uri": "https://localhost:8080/",
          "height": 784
        },
        "id": "64DZEx1COAo7",
        "outputId": "44635a49-25c1-499d-e845-add56193b484"
      },
      "execution_count": null,
      "outputs": [
        {
          "output_type": "stream",
          "name": "stdout",
          "text": [
            "Analyzing MSE in different ways...\n",
            "\n",
            "1. Regular MSE Metrics:\n",
            "MSE: 14261263691\n",
            "RMSE: 119420.5\n",
            "\n",
            "2. Normalized MSE:\n",
            "Normalized MSE: 0.1605114\n",
            "(Closer to 0 is better, this is unitless)\n",
            "\n",
            "3. Percentage Error:\n",
            "Mean Absolute Percentage Error: 33.65 %\n",
            "\n",
            "4. Error Distribution:     Min.   1st Qu.    Median      Mean   3rd Qu.      Max. \n",
            "      5.1   17763.3   39834.0   64749.8   75296.8 2803429.7 \n",
            "\n",
            "Percentage of predictions within:\n",
            "$50,000 of actual: 59.07 %\n",
            "$100,000 of actual: 83.79 %\n",
            "$200,000 of actual: 95.09 %"
          ]
        },
        {
          "output_type": "display_data",
          "data": {
            "text/plain": [
              "Plot with title “Distribution of Prediction Errors”"
            ],
            "image/png": "[encoded data removed]"
          },
          "metadata": {
            "image/png": {
              "width": 420,
              "height": 420
            }
          }
        }
      ]
    }
  ]
}